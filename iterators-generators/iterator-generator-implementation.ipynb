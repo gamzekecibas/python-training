{
 "cells": [
  {
   "cell_type": "code",
   "execution_count": 1,
   "id": "4212866e",
   "metadata": {},
   "outputs": [
    {
     "name": "stdout",
     "output_type": "stream",
     "text": [
      "Lesson 1: Intro Python Programming\n",
      "Lesson 2: Scripting\n",
      "Lesson 3: Iterators and Generators\n",
      "Lesson 4: Machine Learning\n",
      "Lesson 5: Deep Learning\n"
     ]
    }
   ],
   "source": [
    "lessons = [\"Intro Python Programming\", \"Scripting\", \"Iterators and Generators\", \"Machine Learning\", \"Deep Learning\" ]\n",
    "\n",
    "def my_enumerate(iterable, start=0):\n",
    "    # Implement your generator function here\n",
    "    i = 0\n",
    "    while i < len(iterable):\n",
    "        yield i, iterable[i]\n",
    "        i += 1\n",
    "\n",
    "for i, lesson in my_enumerate(lessons, 1):\n",
    "    print(\"Lesson {}: {}\".format(i+1, lesson))"
   ]
  }
 ],
 "metadata": {
  "kernelspec": {
   "display_name": "Python 3",
   "language": "python",
   "name": "python3"
  },
  "language_info": {
   "codemirror_mode": {
    "name": "ipython",
    "version": 3
   },
   "file_extension": ".py",
   "mimetype": "text/x-python",
   "name": "python",
   "nbconvert_exporter": "python",
   "pygments_lexer": "ipython3",
   "version": "3.8.8"
  }
 },
 "nbformat": 4,
 "nbformat_minor": 5
}
