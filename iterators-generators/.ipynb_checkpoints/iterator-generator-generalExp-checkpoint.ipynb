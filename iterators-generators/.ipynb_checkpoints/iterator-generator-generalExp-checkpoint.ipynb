{
 "cells": [
  {
   "cell_type": "code",
   "execution_count": 5,
   "id": "6170865c",
   "metadata": {},
   "outputs": [
    {
     "name": "stdout",
     "output_type": "stream",
     "text": [
      "Print list: \n",
      " [0, 1, 4, 9, 16, 25, 36, 49, 64, 81]\n",
      "\n",
      "Print iterator res: \n",
      " <generator object <genexpr> at 0x000002010358C200>\n"
     ]
    }
   ],
   "source": [
    "sq_list = [x**2 for x in range(10)]  # this produces a list of squares\n",
    "\n",
    "sq_iterator = (x**2 for x in range(10))  # this produces an iterator of squares\n",
    "\n",
    "print('Print list: \\n', sq_list)\n",
    "print('\\nPrint iterator res: \\n', sq_iterator)"
   ]
  }
 ],
 "metadata": {
  "kernelspec": {
   "display_name": "Python 3",
   "language": "python",
   "name": "python3"
  },
  "language_info": {
   "codemirror_mode": {
    "name": "ipython",
    "version": 3
   },
   "file_extension": ".py",
   "mimetype": "text/x-python",
   "name": "python",
   "nbconvert_exporter": "python",
   "pygments_lexer": "ipython3",
   "version": "3.8.8"
  }
 },
 "nbformat": 4,
 "nbformat_minor": 5
}
