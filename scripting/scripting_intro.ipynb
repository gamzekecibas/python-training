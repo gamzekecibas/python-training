{
  "nbformat": 4,
  "nbformat_minor": 0,
  "metadata": {
    "colab": {
      "name": "scripting_1.ipynb",
      "provenance": [],
      "collapsed_sections": []
    },
    "kernelspec": {
      "name": "python3",
      "display_name": "Python 3"
    },
    "language_info": {
      "name": "python"
    }
  },
  "cells": [
    {
      "cell_type": "markdown",
      "metadata": {
        "id": "F_dsXa_IxG9G"
      },
      "source": [
        "CH6 in Python Udacity Free Course  \n",
        "Welcome to Scripting- Snake"
      ]
    },
    {
      "cell_type": "code",
      "metadata": {
        "colab": {
          "base_uri": "https://localhost:8080/"
        },
        "id": "5785b8D0w-XY",
        "outputId": "f761dc68-5254-4f61-8763-0b1f8544e18e"
      },
      "source": [
        "howmany_snakes= 1\n",
        "snake_str= \"\"\"\n",
        "Welcome to Python3!\n",
        "\n",
        "             ____\n",
        "            / . .\\\\\n",
        "            \\  ---<\n",
        "             \\  /\n",
        "   __________/ /\n",
        "-=:___________/\n",
        "\n",
        "\n",
        " _  O  _  \n",
        "  \\ | /  \n",
        "   \\|/  \n",
        "   / \\  \n",
        " _/   \\_, Gamze\\n\n",
        "\"\"\"\n",
        "\n",
        "print(snake_str * howmany_snakes)\n",
        "message='Welcome to Python!\\n\\n          ____\\n         / . .\\ \\n         \\ ---<\\n          \\  /\\n__________/ /\\n-=:\\n___________/ \\n<3, Gamze\\n'\n",
        "print(message)\n",
        "print(message * 3)"
      ],
      "execution_count": 38,
      "outputs": [
        {
          "output_type": "stream",
          "name": "stdout",
          "text": [
            "\n",
            "Welcome to Python3!\n",
            "\n",
            "             ____\n",
            "            / . .\\\n",
            "            \\  ---<\n",
            "             \\  /\n",
            "   __________/ /\n",
            "-=:___________/\n",
            "\n",
            "\n",
            " _  O  _  \n",
            "  \\ | /  \n",
            "   \\|/  \n",
            "   / \\  \n",
            " _/   \\_, Gamze\n",
            "\n",
            "\n",
            "Welcome to Python!\n",
            "\n",
            "          ____\n",
            "         / . .\\ \n",
            "         \\ ---<\n",
            "          \\  /\n",
            "__________/ /\n",
            "-=:\n",
            "___________/ \n",
            "<3, Gamze\n",
            "\n",
            "Welcome to Python!\n",
            "\n",
            "          ____\n",
            "         / . .\\ \n",
            "         \\ ---<\n",
            "          \\  /\n",
            "__________/ /\n",
            "-=:\n",
            "___________/ \n",
            "<3, Gamze\n",
            "Welcome to Python!\n",
            "\n",
            "          ____\n",
            "         / . .\\ \n",
            "         \\ ---<\n",
            "          \\  /\n",
            "__________/ /\n",
            "-=:\n",
            "___________/ \n",
            "<3, Gamze\n",
            "Welcome to Python!\n",
            "\n",
            "          ____\n",
            "         / . .\\ \n",
            "         \\ ---<\n",
            "          \\  /\n",
            "__________/ /\n",
            "-=:\n",
            "___________/ \n",
            "<3, Gamze\n",
            "\n"
          ]
        }
      ]
    },
    {
      "cell_type": "markdown",
      "metadata": {
        "id": "Kf10-vd_xF4i"
      },
      "source": [
        ""
      ]
    }
  ]
}