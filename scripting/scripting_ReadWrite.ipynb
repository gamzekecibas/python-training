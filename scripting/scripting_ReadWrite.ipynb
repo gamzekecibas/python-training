{
 "cells": [
  {
   "cell_type": "code",
   "execution_count": 10,
   "id": "26fd8f92",
   "metadata": {},
   "outputs": [
    {
     "name": "stdout",
     "output_type": "stream",
     "text": [
      "Hello!!\n",
      "\n",
      "You've read the contents of this file!\n",
      "\n",
      " _  O  _  \n",
      "  \\ | /  \n",
      "   \\|/  \n",
      "   / \\  \n",
      " _/   \\_\n"
     ]
    }
   ],
   "source": [
    "# Reading from a file\n",
    "f1 = open('read_file.txt', 'r')\n",
    "file_data = f1.read()\n",
    "f1.close()\n",
    "print(file_data)"
   ]
  },
  {
   "cell_type": "code",
   "execution_count": 11,
   "id": "d4199b68",
   "metadata": {},
   "outputs": [],
   "source": [
    "# Writing to a file\n",
    "# Creating a new text \n",
    "f2 = open('write-file.txt', 'w')\n",
    "f2.write(\"Hello there!\")\n",
    "f2.close()"
   ]
  },
  {
   "cell_type": "code",
   "execution_count": 2,
   "id": "3d36f431",
   "metadata": {},
   "outputs": [
    {
     "name": "stdout",
     "output_type": "stream",
     "text": [
      "0\n",
      "1\n",
      "2\n",
      "3\n",
      "4\n",
      "5\n",
      "6\n",
      "7\n",
      "8\n",
      "9\n"
     ]
    }
   ],
   "source": [
    "# Checking files are read or not when many files are used\n",
    "files = []\n",
    "for i in range(10):\n",
    "    files.append(open('read_file.txt', 'r'))\n",
    "    print(i)"
   ]
  },
  {
   "cell_type": "code",
   "execution_count": 4,
   "id": "7dd198a8",
   "metadata": {},
   "outputs": [
    {
     "name": "stdout",
     "output_type": "stream",
     "text": [
      "Hello!!\n",
      "\n",
      "You've read the contents of this file!\n",
      "\n",
      " _  O  _  \n",
      "  \\ | /  \n",
      "   \\|/  \n",
      "   / \\  \n",
      " _/   \\_\n"
     ]
    }
   ],
   "source": [
    "# with includes open and automatically close steps\n",
    "with open('read_file.txt', 'r') as f:\n",
    "    file_data = f.read()\n",
    "print(file_data)"
   ]
  },
  {
   "cell_type": "code",
   "execution_count": 7,
   "id": "befd5fba",
   "metadata": {},
   "outputs": [
    {
     "name": "stdout",
     "output_type": "stream",
     "text": [
      "We\n",
      "'re the \n",
      "knights of the round table\n",
      "We dance whenever we're able\n",
      "\n",
      "\n",
      "[\"We're the knights of the round table\", \"We dance whenever we're able\"]\n"
     ]
    }
   ],
   "source": [
    "# Reading a specific part of a file\n",
    "with open(\"camelot.txt\") as song:\n",
    "    print(song.read(2))\n",
    "    print(song.read(8))\n",
    "    print(song.read())\n",
    "print('\\n')\n",
    "camelot_lines = []\n",
    "with open(\"camelot.txt\") as f:\n",
    "    for line in f:\n",
    "        camelot_lines.append(line.strip())\n",
    "\n",
    "print(camelot_lines)"
   ]
  },
  {
   "cell_type": "code",
   "execution_count": 19,
   "id": "5eb6c4bb",
   "metadata": {},
   "outputs": [
    {
     "name": "stdout",
     "output_type": "stream",
     "text": [
      "Graham Chapman\n",
      "Eric Idle\n",
      "Terry Jones\n",
      "Michael Palin\n",
      "Terry Gilliam\n",
      "John Cleese\n",
      "Carol Cleveland\n",
      "Ian Davidson\n",
      "John Hughman\n",
      "The Fred Tomlinson Singers\n",
      "Connie Booth\n",
      "Bob Raymond\n",
      "Lyn Ashley\n",
      "Rita Davies\n",
      "Stanley Mason\n",
      "David Ballantyne\n",
      "Donna Reading\n",
      "Peter Brett\n",
      "Maureen Flanagan\n",
      "Katya Wyeth\n",
      "Frank Lester\n",
      "Neil Innes\n",
      "Dick Vosburgh\n",
      "Sandra Richards\n",
      "Julia Breck\n",
      "Nicki Howorth\n",
      "Jimmy Hill\n",
      "Barry Cryer\n",
      "Jeannette Wild\n",
      "Marjorie Wilde\n",
      "Marie Anderson\n",
      "Caron Gardner\n",
      "Nosher Powell\n",
      "Carolae Donoghue\n",
      "Vincent Wong\n",
      "Helena Clayton\n",
      "Nigel Jones\n",
      "Roy Gunson\n",
      "Daphne Davey\n",
      "Stenson Falke\n",
      "Alexander Curry\n",
      "Frank Williams\n",
      "Ralph Wood\n",
      "Rosalind Bailey\n",
      "Marion Mould\n",
      "Sheila Sands\n",
      "Richard Baker\n",
      "Douglas Adams\n",
      "Ewa Aulin\n",
      "Reginald Bosanquet\n",
      "Barbara Lindley\n",
      "Roy Brent\n",
      "Jonas Card\n",
      "Tony Christopher\n",
      "Beulah Hughes\n",
      "Peter Kodak\n",
      "Lulu\n",
      "Jay Neill\n",
      "Graham Skidmore\n",
      "Ringo Starr\n",
      "Fred Tomlinson\n",
      "David Hamilton\n",
      "Suzy Mandel\n",
      "Peter Woods\n"
     ]
    }
   ],
   "source": [
    "# Reading long text and split\n",
    "def create_cast_list(filename):\n",
    "    cast_list = []\n",
    "    #use with to open the file filename\n",
    "    with open(\"flying_circus_cast.txt\") as cast:\n",
    "        #use the for loop syntax to process each line\n",
    "        for line in cast:\n",
    "            line= line.strip().split(',')\n",
    "    #and add the actor name to cast_list\n",
    "            cast_list.append(line[0])\n",
    "    return cast_list\n",
    "\n",
    "cast_list = create_cast_list('flying_circus_cast.txt')\n",
    "for actor in cast_list:\n",
    "    print(actor)"
   ]
  },
  {
   "cell_type": "code",
   "execution_count": 22,
   "id": "53b011d0",
   "metadata": {},
   "outputs": [
    {
     "name": "stdout",
     "output_type": "stream",
     "text": [
      "thought book very\n"
     ]
    }
   ],
   "source": [
    "# QUIZ: Password Generator\n",
    "# TODO: First import the `random` module\n",
    "import random \n",
    "\n",
    "# We begin with an empty `word_list`\n",
    "word_file = \"words.txt\"\n",
    "word_list = []\n",
    "\n",
    "# We fill up the word_list from the `words.txt` file\n",
    "with open(word_file,'r') as words:\n",
    "\tfor line in words:\n",
    "\t\t# remove white space and make everything lowercase\n",
    "\t\tword = line.strip().lower()\n",
    "\t\t# don't include words that are too long or too short\n",
    "\t\tif 3 < len(word) < 8:\n",
    "\t\t\tword_list.append(word)\n",
    "\n",
    "# TODO: Add your function generate_password below\n",
    "# It should return a string consisting of three random words \n",
    "# concatenated together without spaces\n",
    "def generate_password(word_list):\n",
    "    ind1= random.randrange(0, len(word_list)-1)\n",
    "    ind2= random.randrange(0, len(word_list)-1)\n",
    "    ind3= random.randrange(0, len(word_list)-1)\n",
    "    password= str(word_list[ind1])+\" \" +str(word_list[ind2])+\" \"+str(word_list[ind3])\n",
    "    return password\n",
    "\n",
    "\n",
    "# Now we test the function\n",
    "print(generate_password(word_list))"
   ]
  }
 ],
 "metadata": {
  "kernelspec": {
   "display_name": "Python 3",
   "language": "python",
   "name": "python3"
  },
  "language_info": {
   "codemirror_mode": {
    "name": "ipython",
    "version": 3
   },
   "file_extension": ".py",
   "mimetype": "text/x-python",
   "name": "python",
   "nbconvert_exporter": "python",
   "pygments_lexer": "ipython3",
   "version": "3.8.8"
  }
 },
 "nbformat": 4,
 "nbformat_minor": 5
}
