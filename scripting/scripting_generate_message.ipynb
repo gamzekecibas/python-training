{
  "nbformat": 4,
  "nbformat_minor": 0,
  "metadata": {
    "colab": {
      "name": "scripting_generate_message.ipynb",
      "provenance": []
    },
    "kernelspec": {
      "name": "python3",
      "display_name": "Python 3"
    },
    "language_info": {
      "name": "python"
    }
  },
  "cells": [
    {
      "cell_type": "markdown",
      "metadata": {
        "id": "Kgn9q8CI9x8c"
      },
      "source": [
        " Generating message using with a template\n",
        "\n"
      ]
    },
    {
      "cell_type": "code",
      "metadata": {
        "colab": {
          "base_uri": "https://localhost:8080/"
        },
        "id": "ypfWl02H9xfX",
        "outputId": "0ecb1662-ac7d-4b51-feb7-8fe13358c329"
      },
      "source": [
        "# Enter variable lists\n",
        "names= ['A', 'B', 'C', 'D']\n",
        "assgns= ['1','2','3','4']\n",
        "grades= ['50','80','90','10']\n",
        "\n",
        "# Creating message template\n",
        "mssg = \"Hi {},\\n\\nThis is a reminder that you have {} assignments left to \\\n",
        "submit before you can graduate. You're current grade is {} and can increase \\\n",
        "to {} if you submit all assignments before the due date.\\n\\n\"\n",
        "\n",
        "for names, assgns, grades in zip(names, assgns, grades):\n",
        "  print(mssg.format(names, assgns, grades, int(grades)+ int(assgns)*2))"
      ],
      "execution_count": 1,
      "outputs": [
        {
          "output_type": "stream",
          "name": "stdout",
          "text": [
            "Hi A,\n",
            "\n",
            "This is a reminder that you have 1 assignments left to submit before you can graduate. You're current grade is 50 and can increase to 52 if you submit all assignments before the due date.\n",
            "\n",
            "\n",
            "Hi B,\n",
            "\n",
            "This is a reminder that you have 2 assignments left to submit before you can graduate. You're current grade is 80 and can increase to 84 if you submit all assignments before the due date.\n",
            "\n",
            "\n",
            "Hi C,\n",
            "\n",
            "This is a reminder that you have 3 assignments left to submit before you can graduate. You're current grade is 90 and can increase to 96 if you submit all assignments before the due date.\n",
            "\n",
            "\n",
            "Hi D,\n",
            "\n",
            "This is a reminder that you have 4 assignments left to submit before you can graduate. You're current grade is 10 and can increase to 18 if you submit all assignments before the due date.\n",
            "\n",
            "\n"
          ]
        }
      ]
    }
  ]
}