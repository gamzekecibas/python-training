{
  "nbformat": 4,
  "nbformat_minor": 0,
  "metadata": {
    "colab": {
      "name": "scripting_raw_input.ipynb",
      "provenance": [],
      "collapsed_sections": []
    },
    "kernelspec": {
      "name": "python3",
      "display_name": "Python 3"
    },
    "language_info": {
      "name": "python"
    }
  },
  "cells": [
    {
      "cell_type": "markdown",
      "metadata": {
        "id": "F8IsvgK-3bBR"
      },
      "source": [
        "Scripting study\n",
        "- Taking input as\n",
        "  - string\n",
        "  - integer\n",
        "  - float"
      ]
    },
    {
      "cell_type": "code",
      "metadata": {
        "colab": {
          "base_uri": "https://localhost:8080/"
        },
        "id": "sL5vopPs3C_U",
        "outputId": "2ecde5b8-bf85-46e6-c1d0-f620cf6b0c53"
      },
      "source": [
        "# only priting operation is not required to define data type of input\n",
        "# OPTION 1\n",
        "name= input('Enter a name: ')\n",
        "print('Hello', name.title(), '!')\n",
        "\n",
        "# OPTION 2\n",
        "name1= input('Enter your name: ')\n",
        "print('Hello there, {}!'.format(name1.title()))"
      ],
      "execution_count": 2,
      "outputs": [
        {
          "output_type": "stream",
          "name": "stdout",
          "text": [
            "Enter a name: Gamze\n",
            "Hello Gamze !\n",
            "Enter your name: gkecibas\n",
            "Hello there, Gkecibas!\n"
          ]
        }
      ]
    },
    {
      "cell_type": "code",
      "metadata": {
        "colab": {
          "base_uri": "https://localhost:8080/"
        },
        "id": "SLBXopVj4JWN",
        "outputId": "3253d4f1-4300-461c-8378-2140c9abe9b5"
      },
      "source": [
        "# For math operations, data type MUST be defined appropriately!\n",
        "# INTEGER input\n",
        "num1 = int(input('Enter a number (it MUST be integer): '))\n",
        "num1 += 10.5\n",
        "print(num1)\n",
        "\n",
        "# FLOAT input\n",
        "num2= float(input('Enter a nunber (it can have decimal part): '))\n",
        "num2 += 10.5\n",
        "num3 = 22/7\n",
        "print(num2)\n",
        "\n",
        "# Controlling decimal steps of output\n",
        "print('%.2f'%num2)\n",
        "print('%.6f'%num3)"
      ],
      "execution_count": 3,
      "outputs": [
        {
          "output_type": "stream",
          "name": "stdout",
          "text": [
            "Enter a number (it MUST be integer): 4\n",
            "14.5\n",
            "Enter a nunber (it can have decimal part): 3.75\n",
            "14.25\n",
            "14.25\n",
            "3.142857\n"
          ]
        }
      ]
    },
    {
      "cell_type": "code",
      "metadata": {
        "colab": {
          "base_uri": "https://localhost:8080/"
        },
        "id": "E987R1sP7pQD",
        "outputId": "886c0ccb-39df-400b-c7f3-e1fde537a663"
      },
      "source": [
        "# Repetitive printing\n",
        "num4 = int(input('Enter a number: '))\n",
        "print('Hi! ' * num4)"
      ],
      "execution_count": 4,
      "outputs": [
        {
          "output_type": "stream",
          "name": "stdout",
          "text": [
            "Enter a number: 6\n",
            "Hi! Hi! Hi! Hi! Hi! Hi! \n"
          ]
        }
      ]
    },
    {
      "cell_type": "code",
      "metadata": {
        "colab": {
          "base_uri": "https://localhost:8080/"
        },
        "id": "gBuCV9kA8Xil",
        "outputId": "2ebc6f6c-bca7-4d7a-a70a-57cb6186074c"
      },
      "source": [
        "# eval() built-in function\n",
        "x= eval(input('Enter an expression: '))\n",
        "print(x)\n",
        "\n",
        "num5= 30\n",
        "num6= float(input('Enter a number: '))\n",
        "x1= eval('num5 + 32')\n",
        "x2= eval('num6 + x1')\n",
        "print(x1)\n",
        "print(x2)"
      ],
      "execution_count": 7,
      "outputs": [
        {
          "output_type": "stream",
          "name": "stdout",
          "text": [
            "Enter an expression: 32.5 + 3.857575\n",
            "36.357575\n",
            "Enter a number: 2.0085\n",
            "62\n",
            "64.0085\n"
          ]
        }
      ]
    }
  ]
}