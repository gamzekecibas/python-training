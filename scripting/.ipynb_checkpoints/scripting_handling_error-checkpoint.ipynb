{
 "cells": [
  {
   "cell_type": "markdown",
   "id": "23c294a4",
   "metadata": {},
   "source": [
    "# Scripting\n",
    "## Try-Except Statements\n",
    "##### Handling error practice"
   ]
  },
  {
   "cell_type": "code",
   "execution_count": 12,
   "id": "e18b9d1c",
   "metadata": {},
   "outputs": [
    {
     "name": "stdout",
     "output_type": "stream",
     "text": [
      "How many cookies are you baking? 50\n",
      "How many people are attending? 5\n",
      "\n",
      "Let's party! We'll have 5 people attending, they'll each get to eat 10 cookies, and we'll have 0 left over.\n",
      "\n",
      "Would you like to party more? (y or n) y\n",
      "How many cookies are you baking? 23\n",
      "How many people are attending? 7\n",
      "\n",
      "Let's party! We'll have 7 people attending, they'll each get to eat 3 cookies, and we'll have 2 left over.\n",
      "\n",
      "Would you like to party more? (y or n) y\n",
      "How many cookies are you baking? 1000\n",
      "How many people are attending? 0\n",
      "Zero Division Error! Check the number of people!!\n",
      "Exception occurred: integer division or modulo by zero\n",
      "\n",
      "Would you like to party more? (y or n) n\n"
     ]
    }
   ],
   "source": [
    "def party_planner(cookies, people):\n",
    "    leftovers = None\n",
    "    num_each = None\n",
    "    # TODO: Add a try-except block here to\n",
    "    #       make sure no ZeroDivisionError occurs.\n",
    "    try:\n",
    "        num_each = cookies // people\n",
    "        leftovers = cookies % people\n",
    "    except ZeroDivisionError as err:\n",
    "        print('Zero Division Error! Check the number of people!!')\n",
    "        print(\"Exception occurred: {}\".format(err))\n",
    "    except ValueError as val_err:\n",
    "        print(\"Exception occurred: {}\".format(val_err))\n",
    "    return(num_each, leftovers)\n",
    "\n",
    "# The main code block is below; do not edit this\n",
    "lets_party = 'y'\n",
    "while lets_party == 'y':\n",
    "\n",
    "    cookies = int(input(\"How many cookies are you baking? \"))\n",
    "    people = int(input(\"How many people are attending? \"))\n",
    "\n",
    "    cookies_each, leftovers = party_planner(cookies, people)\n",
    "\n",
    "    if cookies_each:  # if cookies_each is not None\n",
    "        message = \"\\nLet's party! We'll have {} people attending, they'll each get to eat {} cookies, and we'll have {} left over.\"\n",
    "        print(message.format(people, cookies_each, leftovers))\n",
    "\n",
    "    lets_party = input(\"\\nWould you like to party more? (y or n) \")"
   ]
  },
  {
   "cell_type": "code",
   "execution_count": null,
   "id": "ad0fc4b7",
   "metadata": {},
   "outputs": [],
   "source": []
  }
 ],
 "metadata": {
  "kernelspec": {
   "display_name": "Python 3",
   "language": "python",
   "name": "python3"
  },
  "language_info": {
   "codemirror_mode": {
    "name": "ipython",
    "version": 3
   },
   "file_extension": ".py",
   "mimetype": "text/x-python",
   "name": "python",
   "nbconvert_exporter": "python",
   "pygments_lexer": "ipython3",
   "version": "3.8.8"
  }
 },
 "nbformat": 4,
 "nbformat_minor": 5
}
