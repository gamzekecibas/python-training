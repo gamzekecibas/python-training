{
  "nbformat": 4,
  "nbformat_minor": 0,
  "metadata": {
    "colab": {
      "name": "scripting_1.ipynb",
      "provenance": [],
      "collapsed_sections": []
    },
    "kernelspec": {
      "name": "python3",
      "display_name": "Python 3"
    },
    "language_info": {
      "name": "python"
    }
  },
  "cells": [
    {
      "cell_type": "markdown",
      "metadata": {
        "id": "F_dsXa_IxG9G"
      },
      "source": [
        "CH6 in Python Udacity Free Course  \n",
        "Welcome to Scripting- Snake"
      ]
    },
    {
      "cell_type": "code",
      "metadata": {
        "colab": {
          "base_uri": "https://localhost:8080/"
        },
        "id": "5785b8D0w-XY",
        "outputId": "62b70f5b-46d0-4667-a11d-e9872d6a2d37"
      },
      "source": [
        "howmany_snakes= 1\n",
        "snake_str= \"\"\"\n",
        "Welcome to Python3!\n",
        "\n",
        "             ____\n",
        "            / . .\\\\\n",
        "            \\  ---<\n",
        "             \\  /\n",
        "   __________/ /\n",
        "-=:___________/\n",
        "\n",
        " _  O  _  \n",
        "  \\ | /  \n",
        "   \\|/  \n",
        "   / \\  \n",
        " _/   \\_, Gamze\n",
        "\"\"\"\n",
        "\n",
        "print(snake_str * howmany_snakes)\n",
        "print(\"\\nWelcome to Python! ____ / . .\\ \\ ---< \\ / __________/ / -=:___________/ <3, Gamze\")"
      ],
      "execution_count": 3,
      "outputs": [
        {
          "output_type": "stream",
          "name": "stdout",
          "text": [
            "\n",
            "Welcome to Python3!\n",
            "\n",
            "             ____\n",
            "            / . .\\\n",
            "            \\  ---<\n",
            "             \\  /\n",
            "   __________/ /\n",
            "-=:___________/\n",
            "\n",
            " _  O  _  \n",
            "  \\ | /  \n",
            "   \\|/  \n",
            "   / \\  \n",
            " _/   \\_, Gamze\n",
            "\n",
            "\n",
            "Welcome to Python! ____ / . .\\ \\ ---< \\ / __________/ / -=:___________/ <3, Gamze\n"
          ]
        }
      ]
    },
    {
      "cell_type": "markdown",
      "metadata": {
        "id": "Kf10-vd_xF4i"
      },
      "source": [
        ""
      ]
    }
  ]
}