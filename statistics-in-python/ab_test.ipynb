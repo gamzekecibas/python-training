{
 "cells": [
  {
   "cell_type": "markdown",
   "id": "71870968",
   "metadata": {},
   "source": [
    "## A/B Testing on Datacamp\n",
    "## 07/01/2023\n",
    "---\n",
    "### Table of Content\n",
    "1) What is A/B Testing"
   ]
  },
  {
   "cell_type": "markdown",
   "id": "7140caee",
   "metadata": {},
   "source": [
    "**1) What is A/B Testing**  \n",
    "  \n",
    "* An experiment designed to test which version is better  \n",
    "* **based on metric(s)** depending on the case  \n",
    "* using **random assigment** & analyzing results  \n",
    "       \n",
    "* **Fundamental steps**  \n",
    "    * Specify the goal & designs/ experiences  \n",
    "    * *Randomly* sample users for enrollment  \n",
    "    * *Randomly* assign users to:  \n",
    "        * *control variant:* current state  \n",
    "        * *treatment/test variant(s):* new design  \n",
    "    * Log user actions & compute metrics  \n",
    "    * Test for statistically significant differences  \n",
    "    \n",
    "* *Randomization* provides:\n",
    "    * generalizability & representativeness\n",
    "    * minimizing bias between groups\n",
    "    * establishing causality by isolating treatment effect"
   ]
  },
  {
   "cell_type": "code",
   "execution_count": null,
   "id": "43b6b41e",
   "metadata": {},
   "outputs": [],
   "source": []
  }
 ],
 "metadata": {
  "kernelspec": {
   "display_name": "Python 3 (ipykernel)",
   "language": "python",
   "name": "python3"
  },
  "language_info": {
   "codemirror_mode": {
    "name": "ipython",
    "version": 3
   },
   "file_extension": ".py",
   "mimetype": "text/x-python",
   "name": "python",
   "nbconvert_exporter": "python",
   "pygments_lexer": "ipython3",
   "version": "3.9.12"
  }
 },
 "nbformat": 4,
 "nbformat_minor": 5
}
