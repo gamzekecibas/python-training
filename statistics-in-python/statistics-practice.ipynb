{
 "cells": [
  {
   "cell_type": "code",
   "execution_count": 29,
   "metadata": {},
   "outputs": [],
   "source": [
    "## Define sets\n",
    "A = {1, 2, 3, 4, 6}\n",
    "B = {3, 5}"
   ]
  },
  {
   "cell_type": "code",
   "execution_count": 3,
   "metadata": {},
   "outputs": [
    {
     "name": "stdout",
     "output_type": "stream",
     "text": [
      "Does A have 1?:  True\n",
      "Does A have 5?:  False\n"
     ]
    }
   ],
   "source": [
    "## Check conditions\n",
    "\n",
    "print('Does A have 1?: ', 1 in A)\n",
    "print('Does A have 5?: ', 5 in A)"
   ]
  },
  {
   "cell_type": "code",
   "execution_count": 4,
   "metadata": {},
   "outputs": [
    {
     "data": {
      "text/plain": [
       "bool"
      ]
     },
     "execution_count": 4,
     "metadata": {},
     "output_type": "execute_result"
    }
   ],
   "source": [
    "## Assign the statement to a variable\n",
    "flag = 1 in A\n",
    "type(flag)"
   ]
  },
  {
   "cell_type": "code",
   "execution_count": 16,
   "metadata": {},
   "outputs": [
    {
     "name": "stdout",
     "output_type": "stream",
     "text": [
      "Is B a subset of A?:  True\n"
     ]
    }
   ],
   "source": [
    "## Check B is a subset of A\n",
    "print('Is B a subset of A?: ', B.issubset(A))"
   ]
  },
  {
   "cell_type": "code",
   "execution_count": 27,
   "metadata": {},
   "outputs": [],
   "source": [
    "def my_subset_check(subset_set, general_set):\n",
    "    for n in subset_set:\n",
    "        if n in general_set:\n",
    "            pass\n",
    "        else:\n",
    "            return False\n",
    "        \n",
    "    return True"
   ]
  },
  {
   "cell_type": "code",
   "execution_count": 30,
   "metadata": {},
   "outputs": [
    {
     "name": "stdout",
     "output_type": "stream",
     "text": [
      "Is B a subset of A?:  False\n"
     ]
    }
   ],
   "source": [
    "print('Is B a subset of A?: ', my_subset_check(A, B))"
   ]
  },
  {
   "cell_type": "code",
   "execution_count": 31,
   "metadata": {},
   "outputs": [],
   "source": [
    "import numpy as np"
   ]
  },
  {
   "cell_type": "code",
   "execution_count": 35,
   "metadata": {},
   "outputs": [
    {
     "name": "stdout",
     "output_type": "stream",
     "text": [
      "omega:  {0, 1, 2, 3, 4, 5, 6, 7, 8, 9}\n"
     ]
    }
   ],
   "source": [
    "omega = set(np.arange(10))   ## assign as universal set\n",
    "type(omega)\n",
    "print('omega: ', omega)"
   ]
  },
  {
   "cell_type": "code",
   "execution_count": 43,
   "metadata": {},
   "outputs": [
    {
     "name": "stdout",
     "output_type": "stream",
     "text": [
      "C:  {0, 2, 4, 6, 8}\n",
      "D:  {1, 4, 7}\n",
      "\n",
      "C ∪ D = E =  {0, 1, 2, 4, 6, 7, 8}\n",
      "C ∩ D = F =  {4}\n"
     ]
    }
   ],
   "source": [
    "C = set(np.arange(0, 9, 2))\n",
    "print('C: ', C)\n",
    "\n",
    "D = set(np.arange(1, 9, 3))\n",
    "print('D: ', D)\n",
    "\n",
    "E = C.union(D)\n",
    "print('\\nC ∪ D = E = ', E)\n",
    "\n",
    "\n",
    "F = C.intersection(D)\n",
    "print('C ∩ D = F = ', F)"
   ]
  },
  {
   "cell_type": "code",
   "execution_count": 44,
   "metadata": {},
   "outputs": [
    {
     "name": "stdout",
     "output_type": "stream",
     "text": [
      "Updated D:  {1, 4, 6, 7}\n"
     ]
    }
   ],
   "source": [
    "D.add(6)\n",
    "print('Updated D: ', D)"
   ]
  },
  {
   "cell_type": "code",
   "execution_count": 45,
   "metadata": {},
   "outputs": [
    {
     "name": "stdout",
     "output_type": "stream",
     "text": [
      "C ∩ (Updated) D = F =  {4, 6}\n"
     ]
    }
   ],
   "source": [
    "F = C.intersection(D)\n",
    "print('C ∩ (Updated) D = F = ', F)"
   ]
  },
  {
   "cell_type": "code",
   "execution_count": 46,
   "metadata": {},
   "outputs": [
    {
     "name": "stdout",
     "output_type": "stream",
     "text": [
      "C - D = G =  {0, 8, 2}\n"
     ]
    }
   ],
   "source": [
    "G = C.difference(D)\n",
    "print('C - D = G = ', G)"
   ]
  },
  {
   "cell_type": "code",
   "execution_count": 51,
   "metadata": {},
   "outputs": [
    {
     "name": "stdout",
     "output_type": "stream",
     "text": [
      "C complement = Universal set (omega) - C =  {1, 3, 5, 7, 9}\n",
      "D complement = Universal set (omega) - D =  {0, 2, 3, 5, 8, 9}\n"
     ]
    }
   ],
   "source": [
    "C_complement = omega.difference(C)\n",
    "print('C complement = Universal set (omega) - C = ', C_complement)\n",
    "\n",
    "D_complement = omega.difference(D)\n",
    "print('D complement = Universal set (omega) - D = ', D_complement)"
   ]
  },
  {
   "cell_type": "code",
   "execution_count": 52,
   "metadata": {},
   "outputs": [
    {
     "data": {
      "text/plain": [
       "{3, 5, 9}"
      ]
     },
     "execution_count": 52,
     "metadata": {},
     "output_type": "execute_result"
    }
   ],
   "source": [
    "omega.difference(C.union(D))"
   ]
  },
  {
   "cell_type": "code",
   "execution_count": 53,
   "metadata": {},
   "outputs": [
    {
     "data": {
      "text/plain": [
       "{3, 5, 9}"
      ]
     },
     "execution_count": 53,
     "metadata": {},
     "output_type": "execute_result"
    }
   ],
   "source": [
    "C_complement.intersection(D_complement)"
   ]
  },
  {
   "cell_type": "code",
   "execution_count": 54,
   "metadata": {},
   "outputs": [
    {
     "data": {
      "text/plain": [
       "True"
      ]
     },
     "execution_count": 54,
     "metadata": {},
     "output_type": "execute_result"
    }
   ],
   "source": [
    "omega.difference(C.intersection(D)) == C_complement.union(D_complement)"
   ]
  }
 ],
 "metadata": {
  "kernelspec": {
   "display_name": "base",
   "language": "python",
   "name": "python3"
  },
  "language_info": {
   "codemirror_mode": {
    "name": "ipython",
    "version": 3
   },
   "file_extension": ".py",
   "mimetype": "text/x-python",
   "name": "python",
   "nbconvert_exporter": "python",
   "pygments_lexer": "ipython3",
   "version": "3.9.12"
  }
 },
 "nbformat": 4,
 "nbformat_minor": 2
}
